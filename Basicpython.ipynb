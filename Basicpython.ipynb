{
 "cells": [
  {
   "cell_type": "markdown",
   "id": "9ed7cdaa",
   "metadata": {},
   "source": [
    "# Basic Python_Loop"
   ]
  },
  {
   "cell_type": "code",
   "execution_count": 1,
   "id": "afa9b585",
   "metadata": {},
   "outputs": [
    {
     "name": "stdout",
     "output_type": "stream",
     "text": [
      "['apple']\n",
      "['banana']\n",
      "['cherry']\n"
     ]
    }
   ],
   "source": [
    "fruits=[\"apple\"],[\"banana\"],[\"cherry\"]\n",
    "for x in fruits:\n",
    "    print (x)"
   ]
  },
  {
   "cell_type": "code",
   "execution_count": 5,
   "id": "83240fff",
   "metadata": {},
   "outputs": [
    {
     "name": "stdout",
     "output_type": "stream",
     "text": [
      "a\n",
      "p\n",
      "p\n",
      "l\n",
      "e\n"
     ]
    }
   ],
   "source": [
    "for x in \"apple\":\n",
    "     print(x)"
   ]
  },
  {
   "cell_type": "code",
   "execution_count": 6,
   "id": "b27f5ea7",
   "metadata": {},
   "outputs": [
    {
     "name": "stdout",
     "output_type": "stream",
     "text": [
      "0\n",
      "1\n",
      "2\n",
      "3\n",
      "4\n",
      "5\n",
      "6\n",
      "7\n",
      "8\n",
      "9\n"
     ]
    }
   ],
   "source": [
    "for x in range(10):\n",
    "    print (x)"
   ]
  },
  {
   "cell_type": "code",
   "execution_count": 7,
   "id": "5bfcb690",
   "metadata": {},
   "outputs": [
    {
     "name": "stdout",
     "output_type": "stream",
     "text": [
      "2\n",
      "5\n",
      "8\n",
      "11\n",
      "14\n",
      "17\n",
      "20\n",
      "23\n",
      "26\n",
      "29\n"
     ]
    }
   ],
   "source": [
    "for x in range(2,30,3):\n",
    "    print (x)"
   ]
  },
  {
   "cell_type": "code",
   "execution_count": 9,
   "id": "21f0094d",
   "metadata": {},
   "outputs": [
    {
     "name": "stdout",
     "output_type": "stream",
     "text": [
      "0\n",
      "1\n",
      "2\n",
      "3\n",
      "4\n",
      "5\n",
      "6\n",
      "7\n",
      "8\n",
      "9\n",
      "End\n"
     ]
    }
   ],
   "source": [
    " for x in range(10):\n",
    "    print (x)\n",
    "else:\n",
    "        print(\"End\")"
   ]
  },
  {
   "cell_type": "code",
   "execution_count": 13,
   "id": "731a3295",
   "metadata": {},
   "outputs": [
    {
     "name": "stdout",
     "output_type": "stream",
     "text": [
      "red\n",
      "red\n",
      "red\n",
      "big\n",
      "big\n",
      "big\n",
      "tasty\n",
      "tasty\n",
      "tasty\n"
     ]
    }
   ],
   "source": [
    "first=[\"red\",\"big\",\"tasty\"]\n",
    "second=[\"apple\",\"banana\",\"cherry\"]\n",
    "for x in first:\n",
    "    for y in second:\n",
    "        print(x)"
   ]
  },
  {
   "cell_type": "code",
   "execution_count": 14,
   "id": "9d686809",
   "metadata": {},
   "outputs": [
    {
     "name": "stdout",
     "output_type": "stream",
     "text": [
      "red apple\n",
      "red banana\n",
      "red cherry\n",
      "big apple\n",
      "big banana\n",
      "big cherry\n",
      "tasty apple\n",
      "tasty banana\n",
      "tasty cherry\n"
     ]
    }
   ],
   "source": [
    "first=[\"red\",\"big\",\"tasty\"]\n",
    "second=[\"apple\",\"banana\",\"cherry\"]\n",
    "for x in first:\n",
    "    for y in second:\n",
    "        print(x,y)"
   ]
  },
  {
   "cell_type": "code",
   "execution_count": 19,
   "id": "caf5b981",
   "metadata": {},
   "outputs": [
    {
     "name": "stdout",
     "output_type": "stream",
     "text": [
      "The num has value: 1\n",
      "The num has value: 2\n",
      "The num has value: 3\n",
      "The num has value: 4\n",
      "The num has value: 5\n",
      "The num has value: 6\n",
      "The num has value: 7\n",
      "Out of loop\n"
     ]
    }
   ],
   "source": [
    "num = 0\n",
    "for i in range(10):\n",
    "\tnum += 1\n",
    "\tif num == 8:\n",
    "\t\tbreak\n",
    "\tprint(\"The num has value:\", num)\n",
    "print(\"Out of loop\")\n"
   ]
  },
  {
   "cell_type": "markdown",
   "id": "acf76bb3",
   "metadata": {},
   "source": [
    "# Write a Python program to construct the following pattern, using a nested for loop."
   ]
  },
  {
   "cell_type": "code",
   "execution_count": 2,
   "id": "2ffd52e5",
   "metadata": {
    "scrolled": false
   },
   "outputs": [
    {
     "name": "stdout",
     "output_type": "stream",
     "text": [
      "\n",
      "* \n",
      "* * \n",
      "* * * \n",
      "* * * * \n",
      "* * * * * \n",
      "* * * * \n",
      "* * * \n",
      "* * \n",
      "* \n"
     ]
    }
   ],
   "source": [
    "n=5;\n",
    "for i in range(n):\n",
    "    for j in range(i):\n",
    "        print ('* ', end=\"\")\n",
    "    print('')\n",
    "\n",
    "for i in range(n,0,-1):\n",
    "    for j in range(i):\n",
    "        print('* ', end=\"\")\n",
    "    print('')\n",
    "\t"
   ]
  },
  {
   "cell_type": "markdown",
   "id": "4d69186a",
   "metadata": {},
   "source": [
    "# Write a Python program that accepts a sequence of lines (blank line to terminate) as input and prints the lines as output (all characters in lower case)."
   ]
  },
  {
   "cell_type": "code",
   "execution_count": 5,
   "id": "62d6067f",
   "metadata": {},
   "outputs": [
    {
     "name": "stdout",
     "output_type": "stream",
     "text": [
      "apple\n",
      "mango\n",
      "papaya\n",
      "orange\n",
      "\n",
      "APPLE\n",
      "MANGO\n",
      "PAPAYA\n",
      "ORANGE\n"
     ]
    }
   ],
   "source": [
    "lines = []\n",
    "while True:\n",
    "    l = input()\n",
    "    if l:\n",
    "        lines.append(l.upper())\n",
    "    else:\n",
    "        break;\n",
    "\n",
    "for l in lines:\n",
    "    print(l)\n",
    "\t"
   ]
  },
  {
   "cell_type": "markdown",
   "id": "faf3a5b4",
   "metadata": {},
   "source": [
    "# Write a Python program to print alphabet pattern 'A'."
   ]
  },
  {
   "cell_type": "code",
   "execution_count": null,
   "id": "f5159bd3",
   "metadata": {},
   "outputs": [],
   "source": [
    "# result_str=\"\";    \n",
    "for row in range(0,7):    \n",
    "    for column in range(0,7):     \n",
    "        if (((column == 1 or column == 5) and row != 0) or ((row == 0 or row == 3) and (column > 1 and column < 5))):    \n",
    "            result_str=result_str+\"*\"    \n",
    "        else:      \n",
    "            result_str=result_str+\" \"    \n",
    "    result_str=result_str+\"\\n\"    \n",
    "print(result_str);\n"
   ]
  },
  {
   "cell_type": "markdown",
   "id": "54dde274",
   "metadata": {},
   "source": [
    "# Write a Python program to display astrological sign for given date of birth."
   ]
  },
  {
   "cell_type": "code",
   "execution_count": 9,
   "id": "8da0e0e5",
   "metadata": {},
   "outputs": [
    {
     "name": "stdout",
     "output_type": "stream",
     "text": [
      "Input birthday: 16\n",
      "Input month of birth (e.g. march, july etc): December\n",
      "Your Astrological sign is : capricorn\n"
     ]
    }
   ],
   "source": [
    "day = int(input(\"Input birthday: \"))\n",
    "month = input(\"Input month of birth (e.g. march, july etc): \")\n",
    "if month == 'december':\n",
    "\tastro_sign = 'Sagittarius' if (day < 22) else 'capricorn'\n",
    "elif month == 'january':\n",
    "\tastro_sign = 'Capricorn' if (day < 20) else 'aquarius'\n",
    "elif month == 'february':\n",
    "\tastro_sign = 'Aquarius' if (day < 19) else 'pisces'\n",
    "elif month == 'march':\n",
    "\tastro_sign = 'Pisces' if (day < 21) else 'aries'\n",
    "elif month == 'april':\n",
    "\tastro_sign = 'Aries' if (day < 20) else 'taurus'\n",
    "elif month == 'may':\n",
    "\tastro_sign = 'Taurus' if (day < 21) else 'gemini'\n",
    "elif month == 'june':\n",
    "\tastro_sign = 'Gemini' if (day < 21) else 'cancer'\n",
    "elif month == 'july':\n",
    "\tastro_sign = 'Cancer' if (day < 23) else 'leo'\n",
    "elif month == 'august':\n",
    "\tastro_sign = 'Leo' if (day < 23) else 'virgo'\n",
    "elif month == 'september':\n",
    "\tastro_sign = 'Virgo' if (day < 23) else 'libra'\n",
    "elif month == 'october':\n",
    "\tastro_sign = 'Libra' if (day < 23) else 'scorpio'\n",
    "elif month == 'november':\n",
    "\tastro_sign = 'scorpio' if (day < 22) else 'sagittarius'\n",
    "print(\"Your Astrological sign is :\",astro_sign)\n"
   ]
  },
  {
   "cell_type": "markdown",
   "id": "c761b427",
   "metadata": {},
   "source": [
    "# Python program to draw square"
   ]
  },
  {
   "cell_type": "code",
   "execution_count": 1,
   "id": "76eb2403",
   "metadata": {},
   "outputs": [],
   "source": [
    "import turtle\n",
    "skk = turtle.Turtle()\n",
    "\n",
    "for i in range(4):\n",
    "\tskk.forward(50)\n",
    "\tskk.right(90)\n",
    "\t\n",
    "turtle.done()\n"
   ]
  },
  {
   "cell_type": "markdown",
   "id": "8e4fcb08",
   "metadata": {},
   "source": [
    "# Python program to draw star"
   ]
  },
  {
   "cell_type": "code",
   "execution_count": 4,
   "id": "cf321c87",
   "metadata": {},
   "outputs": [],
   "source": [
    "import turtle\n",
    "star = turtle.Turtle()\n",
    "\n",
    "star.right(75)\n",
    "star.forward(100)\n",
    "\n",
    "for i in range(4):\n",
    "\tstar.right(144)\n",
    "\tstar.forward(100)\n",
    "\t\n",
    "turtle.done()\n"
   ]
  },
  {
   "cell_type": "markdown",
   "id": "2b439a84",
   "metadata": {},
   "source": [
    "# Python program to draw hexagon"
   ]
  },
  {
   "cell_type": "code",
   "execution_count": null,
   "id": "4d55ef13",
   "metadata": {},
   "outputs": [],
   "source": [
    "import turtle\n",
    "polygon = turtle.Turtle()\n",
    "\n",
    "num_sides = 6\n",
    "side_length = 70\n",
    "angle = 360.0 / num_sides\n",
    "\n",
    "for i in range(num_sides):\n",
    "\tpolygon.forward(side_length)\n",
    "\tpolygon.right(angle)\n",
    "\t\n",
    "turtle.done()\n"
   ]
  },
  {
   "cell_type": "markdown",
   "id": "50ffb9b4",
   "metadata": {},
   "source": [
    "# Python program to draw Spiral Helix Pattern"
   ]
  },
  {
   "cell_type": "code",
   "execution_count": null,
   "id": "3d9ad003",
   "metadata": {},
   "outputs": [],
   "source": [
    "import turtle\n",
    "loadWindow = turtle.Screen()\n",
    "turtle.speed(2)\n",
    "\n",
    "for i in range(100):\n",
    "\tturtle.circle(5*i)\n",
    "\tturtle.circle(-5*i)\n",
    "\tturtle.left(i)\n",
    "\n",
    "turtle.exitonclick()\n"
   ]
  },
  {
   "cell_type": "code",
   "execution_count": null,
   "id": "6c17dd51",
   "metadata": {},
   "outputs": [],
   "source": []
  }
 ],
 "metadata": {
  "kernelspec": {
   "display_name": "Python 3 (ipykernel)",
   "language": "python",
   "name": "python3"
  },
  "language_info": {
   "codemirror_mode": {
    "name": "ipython",
    "version": 3
   },
   "file_extension": ".py",
   "mimetype": "text/x-python",
   "name": "python",
   "nbconvert_exporter": "python",
   "pygments_lexer": "ipython3",
   "version": "3.9.12"
  }
 },
 "nbformat": 4,
 "nbformat_minor": 5
}
